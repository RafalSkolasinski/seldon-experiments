{
 "cells": [
  {
   "cell_type": "markdown",
   "metadata": {},
   "source": [
    "# Deploy"
   ]
  },
  {
   "cell_type": "code",
   "execution_count": 1,
   "metadata": {},
   "outputs": [
    {
     "name": "stdout",
     "output_type": "stream",
     "text": [
      "\u001b[94mapiVersion\u001b[39;49;00m: machinelearning.seldon.io/v1\n",
      "\u001b[94mkind\u001b[39;49;00m: SeldonDeployment\n",
      "\u001b[94mmetadata\u001b[39;49;00m:\n",
      "  \u001b[94mname\u001b[39;49;00m: sklearn\n",
      "\u001b[94mspec\u001b[39;49;00m:\n",
      "  \u001b[94mname\u001b[39;49;00m: iris\n",
      "  \u001b[94mpredictors\u001b[39;49;00m:\n",
      "  - \u001b[94mgraph\u001b[39;49;00m:\n",
      "      \u001b[94mchildren\u001b[39;49;00m: []\n",
      "      \u001b[94mimplementation\u001b[39;49;00m: SKLEARN_SERVER\n",
      "      \u001b[94mmodelUri\u001b[39;49;00m: gs://seldon-models/sklearn/iris\n",
      "      \u001b[94mname\u001b[39;49;00m: classifier\n",
      "    \u001b[94mname\u001b[39;49;00m: default\n",
      "    \u001b[94mreplicas\u001b[39;49;00m: 1\n",
      "    \u001b[94msvcOrchSpec\u001b[39;49;00m:\n",
      "      \u001b[94menv\u001b[39;49;00m:\n",
      "      - \u001b[94mname\u001b[39;49;00m: SELDON_LOG_LEVEL\n",
      "        \u001b[94mvalue\u001b[39;49;00m: DEBUG\n"
     ]
    }
   ],
   "source": [
    "!pygmentize sklearnserver-iris.yaml"
   ]
  },
  {
   "cell_type": "code",
   "execution_count": 2,
   "metadata": {},
   "outputs": [
    {
     "name": "stdout",
     "output_type": "stream",
     "text": [
      "seldondeployment.machinelearning.seldon.io/sklearn configured\n"
     ]
    }
   ],
   "source": [
    "!kubectl apply -f sklearnserver-iris.yaml"
   ]
  },
  {
   "cell_type": "code",
   "execution_count": 3,
   "metadata": {},
   "outputs": [
    {
     "name": "stdout",
     "output_type": "stream",
     "text": [
      "deployment \"iris-default-4903e3c\" successfully rolled out\n"
     ]
    }
   ],
   "source": [
    "!kubectl rollout status deploy/iris-default-4903e3c"
   ]
  },
  {
   "cell_type": "code",
   "execution_count": 4,
   "metadata": {},
   "outputs": [
    {
     "name": "stdout",
     "output_type": "stream",
     "text": [
      "NAME                                    READY   STATUS    RESTARTS   AGE\n",
      "ambassador-69d88f894c-47vmk             1/1     Running   0          97m\n",
      "ambassador-69d88f894c-dfx6v             1/1     Running   0          97m\n",
      "ambassador-69d88f894c-pmwr8             1/1     Running   0          97m\n",
      "iris-default-4903e3c-5989684fcd-k4ff9   2/2     Running   0          10m\n"
     ]
    }
   ],
   "source": [
    "!kubectl get pods"
   ]
  },
  {
   "cell_type": "markdown",
   "metadata": {},
   "source": [
    "# Test"
   ]
  },
  {
   "cell_type": "code",
   "execution_count": 5,
   "metadata": {},
   "outputs": [],
   "source": [
    "from seldon_core.seldon_client import SeldonClient\n",
    "sc = SeldonClient(deployment_name=\"sklearn\",namespace=\"seldon\")"
   ]
  },
  {
   "cell_type": "markdown",
   "metadata": {},
   "source": [
    "### ProtoBuffer"
   ]
  },
  {
   "cell_type": "code",
   "execution_count": 6,
   "metadata": {},
   "outputs": [
    {
     "name": "stdout",
     "output_type": "stream",
     "text": [
      "Success:True message:\n",
      "Request:\n",
      "meta {\n",
      "}\n",
      "data {\n",
      "  tensor {\n",
      "    shape: 2\n",
      "    shape: 4\n",
      "    values: 0.4911234968962078\n",
      "    values: 0.3568807851045721\n",
      "    values: 0.4890809724631734\n",
      "    values: 0.7613342733273581\n",
      "    values: 0.8852950122237542\n",
      "    values: 0.6117993348836631\n",
      "    values: 0.23762388564314052\n",
      "    values: 0.9107943919487682\n",
      "  }\n",
      "}\n",
      "\n",
      "Response:\n",
      "meta {\n",
      "  puid: \"froua0na6ap88kmkh1hsqt9tcj\"\n",
      "  requestPath {\n",
      "    key: \"classifier\"\n",
      "    value: \"seldonio/sklearnserver_rest:0.2\"\n",
      "  }\n",
      "}\n",
      "data {\n",
      "  names: \"t:0\"\n",
      "  names: \"t:1\"\n",
      "  names: \"t:2\"\n",
      "  tensor {\n",
      "    shape: 2\n",
      "    shape: 3\n",
      "    values: 0.20581367410452373\n",
      "    values: 0.3439156619906966\n",
      "    values: 0.4502706639047797\n",
      "    values: 0.4371093066169174\n",
      "    values: 0.2901662855689947\n",
      "    values: 0.2727244078140879\n",
      "  }\n",
      "}\n",
      "\n"
     ]
    }
   ],
   "source": [
    "r = sc.predict(gateway=\"ambassador\",transport=\"rest\", shape=(2, 4))\n",
    "print(r)"
   ]
  },
  {
   "cell_type": "code",
   "execution_count": 7,
   "metadata": {},
   "outputs": [
    {
     "data": {
      "text/plain": [
       "array([[0.20581367, 0.34391566, 0.45027066],\n",
       "       [0.43710931, 0.29016629, 0.27272441]])"
      ]
     },
     "execution_count": 7,
     "metadata": {},
     "output_type": "execute_result"
    }
   ],
   "source": [
    "from seldon_core.utils import get_data_from_proto\n",
    "get_data_from_proto(r.response)"
   ]
  },
  {
   "cell_type": "markdown",
   "metadata": {},
   "source": [
    "### Dictionary"
   ]
  },
  {
   "cell_type": "code",
   "execution_count": 8,
   "metadata": {},
   "outputs": [
    {
     "name": "stdout",
     "output_type": "stream",
     "text": [
      "Success:True message:\n",
      "Request:\n",
      "meta {\n",
      "}\n",
      "data {\n",
      "  tensor {\n",
      "    shape: 2\n",
      "    shape: 4\n",
      "    values: 0.6118486035311628\n",
      "    values: 0.8077893489327292\n",
      "    values: 0.7110402326073282\n",
      "    values: 0.28700131396824335\n",
      "    values: 0.14721484327205991\n",
      "    values: 0.20979876056386182\n",
      "    values: 0.21151170790961282\n",
      "    values: 0.29005218262915133\n",
      "  }\n",
      "}\n",
      "\n",
      "Response:\n",
      "{'meta': {'puid': 'cjphe7omoqhunpiadtnl56g9k3', 'tags': {}, 'routing': {}, 'requestPath': {'classifier': 'seldonio/sklearnserver_rest:0.2'}, 'metrics': []}, 'data': {'names': ['t:0', 't:1', 't:2'], 'tensor': {'shape': [2, 3], 'values': [0.3650666063239941, 0.41793390602977126, 0.21699948764623464, 0.31673044846221393, 0.42967093437250325, 0.25359861716528276]}}}\n"
     ]
    }
   ],
   "source": [
    "r = sc.predict(gateway=\"ambassador\", transport=\"rest\", shape=(2, 4), client_return_type='dict')\n",
    "print(r)"
   ]
  },
  {
   "cell_type": "code",
   "execution_count": 9,
   "metadata": {},
   "outputs": [
    {
     "name": "stdout",
     "output_type": "stream",
     "text": [
      "{'data': {'names': ['t:0', 't:1', 't:2'],\n",
      "          'tensor': {'shape': [2, 3],\n",
      "                     'values': [0.3650666063239941,\n",
      "                                0.41793390602977126,\n",
      "                                0.21699948764623464,\n",
      "                                0.31673044846221393,\n",
      "                                0.42967093437250325,\n",
      "                                0.25359861716528276]}},\n",
      " 'meta': {'metrics': [],\n",
      "          'puid': 'cjphe7omoqhunpiadtnl56g9k3',\n",
      "          'requestPath': {'classifier': 'seldonio/sklearnserver_rest:0.2'},\n",
      "          'routing': {},\n",
      "          'tags': {}}}\n"
     ]
    }
   ],
   "source": [
    "from pprint import pprint\n",
    "pprint(r.response)"
   ]
  }
 ],
 "metadata": {
  "kernelspec": {
   "display_name": "Python 3",
   "language": "python",
   "name": "python3"
  },
  "language_info": {
   "codemirror_mode": {
    "name": "ipython",
    "version": 3
   },
   "file_extension": ".py",
   "mimetype": "text/x-python",
   "name": "python",
   "nbconvert_exporter": "python",
   "pygments_lexer": "ipython3",
   "version": "3.7.5"
  }
 },
 "nbformat": 4,
 "nbformat_minor": 4
}
